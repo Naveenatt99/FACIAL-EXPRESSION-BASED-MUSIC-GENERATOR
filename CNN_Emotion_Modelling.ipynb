{
 "cells": [
  {
   "cell_type": "code",
   "execution_count": 0,
   "metadata": {
    "colab": {},
    "colab_type": "code",
    "id": "yB3d19Ed-81y"
   },
   "outputs": [],
   "source": [
    "import pandas as pd\n",
    "import numpy as np\n",
    "from numpy import loadtxt\n",
    "import matplotlib.pyplot as plt\n",
    "import cv2\n",
    "import sys, os\n",
    "import tensorflow as tf\n",
    "from sklearn.model_selection import train_test_split\n",
    "from keras.models import Sequential\n",
    "from keras.layers import Dense, Activation, Flatten\n",
    "from keras.layers import Conv2D, MaxPooling2D, BatchNormalization, Activation, LeakyReLU\n",
    "from keras.losses import categorical_crossentropy\n",
    "from keras.optimizers import Adam\n",
    "from keras.regularizers import l2\n",
    "from keras.preprocessing.image import ImageDataGenerator\n",
    "from keras.callbacks import ReduceLROnPlateau, TensorBoard, EarlyStopping, ModelCheckpoint\n",
    "from keras.models import load_model\n",
    "from keras.layers import Dropout\n",
    "from sklearn.utils import shuffle\n",
    "import warnings\n",
    "warnings.filterwarnings(\"ignore\")"
   ]
  },
  {
   "cell_type": "code",
   "execution_count": 0,
   "metadata": {
    "colab": {
     "base_uri": "https://localhost:8080/",
     "height": 35
    },
    "colab_type": "code",
    "id": "7Ms2KQfYbscX",
    "outputId": "1bba2571-2cb1-40db-d999-e51b8ba6cfd2"
   },
   "outputs": [
    {
     "name": "stdout",
     "output_type": "stream",
     "text": [
      "Drive already mounted at /content/gdrive; to attempt to forcibly remount, call drive.mount(\"/content/gdrive\", force_remount=True).\n"
     ]
    }
   ],
   "source": [
    "from google.colab import drive\n",
    "drive.mount('/content/gdrive')"
   ]
  },
  {
   "cell_type": "code",
   "execution_count": 0,
   "metadata": {
    "colab": {},
    "colab_type": "code",
    "id": "xbZgNJ6MDezi"
   },
   "outputs": [],
   "source": [
    "data=pd.read_csv('gdrive/My Drive/Datasets/four_emotions.csv')"
   ]
  },
  {
   "cell_type": "code",
   "execution_count": 0,
   "metadata": {
    "colab": {
     "base_uri": "https://localhost:8080/",
     "height": 202
    },
    "colab_type": "code",
    "id": "XNizuk6GG8H3",
    "outputId": "812d0cde-492d-4da4-c2bd-bbbe28430d27"
   },
   "outputs": [
    {
     "data": {
      "text/html": [
       "<div>\n",
       "<style scoped>\n",
       "    .dataframe tbody tr th:only-of-type {\n",
       "        vertical-align: middle;\n",
       "    }\n",
       "\n",
       "    .dataframe tbody tr th {\n",
       "        vertical-align: top;\n",
       "    }\n",
       "\n",
       "    .dataframe thead th {\n",
       "        text-align: right;\n",
       "    }\n",
       "</style>\n",
       "<table border=\"1\" class=\"dataframe\">\n",
       "  <thead>\n",
       "    <tr style=\"text-align: right;\">\n",
       "      <th></th>\n",
       "      <th>emotion</th>\n",
       "      <th>pixels</th>\n",
       "      <th>anger</th>\n",
       "      <th>happiness</th>\n",
       "      <th>neutral</th>\n",
       "      <th>sadness</th>\n",
       "      <th>nf</th>\n",
       "    </tr>\n",
       "  </thead>\n",
       "  <tbody>\n",
       "    <tr>\n",
       "      <th>18621</th>\n",
       "      <td>1</td>\n",
       "      <td>241 112 28 44 51 80 101 106 129 162 181 190 19...</td>\n",
       "      <td>7</td>\n",
       "      <td>3</td>\n",
       "      <td>0</td>\n",
       "      <td>0</td>\n",
       "      <td>0</td>\n",
       "    </tr>\n",
       "    <tr>\n",
       "      <th>27714</th>\n",
       "      <td>2</td>\n",
       "      <td>49 35 32 29 24 26 29 34 35 34 36 38 32 30 28 3...</td>\n",
       "      <td>0</td>\n",
       "      <td>9</td>\n",
       "      <td>1</td>\n",
       "      <td>0</td>\n",
       "      <td>0</td>\n",
       "    </tr>\n",
       "    <tr>\n",
       "      <th>23716</th>\n",
       "      <td>3</td>\n",
       "      <td>28 34 42 47 46 39 27 29 21 27 41 75 99 117 136...</td>\n",
       "      <td>0</td>\n",
       "      <td>10</td>\n",
       "      <td>0</td>\n",
       "      <td>0</td>\n",
       "      <td>0</td>\n",
       "    </tr>\n",
       "    <tr>\n",
       "      <th>8169</th>\n",
       "      <td>2</td>\n",
       "      <td>154 155 140 152 179 181 155 163 200 198 193 19...</td>\n",
       "      <td>0</td>\n",
       "      <td>9</td>\n",
       "      <td>1</td>\n",
       "      <td>0</td>\n",
       "      <td>0</td>\n",
       "    </tr>\n",
       "    <tr>\n",
       "      <th>33804</th>\n",
       "      <td>2</td>\n",
       "      <td>84 95 108 102 100 136 150 139 103 108 120 125 ...</td>\n",
       "      <td>0</td>\n",
       "      <td>1</td>\n",
       "      <td>4</td>\n",
       "      <td>2</td>\n",
       "      <td>3</td>\n",
       "    </tr>\n",
       "  </tbody>\n",
       "</table>\n",
       "</div>"
      ],
      "text/plain": [
       "       emotion                                             pixels  ...  sadness  nf\n",
       "18621        1  241 112 28 44 51 80 101 106 129 162 181 190 19...  ...        0   0\n",
       "27714        2  49 35 32 29 24 26 29 34 35 34 36 38 32 30 28 3...  ...        0   0\n",
       "23716        3  28 34 42 47 46 39 27 29 21 27 41 75 99 117 136...  ...        0   0\n",
       "8169         2  154 155 140 152 179 181 155 163 200 198 193 19...  ...        0   0\n",
       "33804        2  84 95 108 102 100 136 150 139 103 108 120 125 ...  ...        2   3\n",
       "\n",
       "[5 rows x 7 columns]"
      ]
     },
     "execution_count": 54,
     "metadata": {
      "tags": []
     },
     "output_type": "execute_result"
    }
   ],
   "source": [
    "data=shuffle(data)\n",
    "data.head()"
   ]
  },
  {
   "cell_type": "code",
   "execution_count": 0,
   "metadata": {
    "colab": {},
    "colab_type": "code",
    "id": "Y-bfKfzVD7wo"
   },
   "outputs": [],
   "source": [
    "image=data['pixels'].tolist()"
   ]
  },
  {
   "cell_type": "code",
   "execution_count": 0,
   "metadata": {
    "colab": {
     "base_uri": "https://localhost:8080/",
     "height": 35
    },
    "colab_type": "code",
    "id": "U63uPsq0FPUk",
    "outputId": "3ba859bb-3976-4896-d4cf-f5ce5ebe65da"
   },
   "outputs": [
    {
     "data": {
      "text/plain": [
       "(35887, 4)"
      ]
     },
     "execution_count": 56,
     "metadata": {
      "tags": []
     },
     "output_type": "execute_result"
    }
   ],
   "source": [
    "data = data.drop(['pixels', 'emotion', 'nf'], axis=1)\n",
    "y = data\n",
    "y=np.array(y)\n",
    "y.shape"
   ]
  },
  {
   "cell_type": "code",
   "execution_count": 0,
   "metadata": {
    "colab": {},
    "colab_type": "code",
    "id": "0nMSyjGIEVce"
   },
   "outputs": [],
   "source": [
    "X = []\n",
    "for i in range(len(image)):\n",
    "    d=[int(x) for x in image[i].split(' ')]\n",
    "    d = np.asarray(d).reshape(48, 48)\n",
    "    X.append(d.astype('float32'))"
   ]
  },
  {
   "cell_type": "code",
   "execution_count": 0,
   "metadata": {
    "colab": {},
    "colab_type": "code",
    "id": "IrRTFRlONXAq"
   },
   "outputs": [],
   "source": [
    "del(data)\n",
    "del(image)\n",
    "del(d)\n",
    "x_new=X"
   ]
  },
  {
   "cell_type": "code",
   "execution_count": 0,
   "metadata": {
    "colab": {},
    "colab_type": "code",
    "id": "o7kUCDNJDIg3"
   },
   "outputs": [],
   "source": [
    "#x_new = []\n",
    "#for i in range(len(X)):\n",
    "#    d = cv2.resize(X[i], (200, 200), fx=0.5, fy=0.5, interpolation = cv2.INTER_CUBIC)\n",
    "#    d = np.asarray(d)\n",
    "#    x_new.append(d.astype('float32'))\n",
    "#    del(d)"
   ]
  },
  {
   "cell_type": "code",
   "execution_count": 0,
   "metadata": {
    "colab": {},
    "colab_type": "code",
    "id": "9XXlM0HDLy2Z"
   },
   "outputs": [],
   "source": [
    "del(X)"
   ]
  },
  {
   "cell_type": "code",
   "execution_count": 0,
   "metadata": {
    "colab": {},
    "colab_type": "code",
    "id": "SXEsnwzVHD2_"
   },
   "outputs": [],
   "source": [
    "epochs=100\n",
    "batch_size = 64\n",
    "num_features = 64\n",
    "output_size = 4\n",
    "alpha=0.05\n",
    "reg=0.001\n",
    "width = 200\n",
    "height = 200"
   ]
  },
  {
   "cell_type": "code",
   "execution_count": 0,
   "metadata": {
    "colab": {
     "base_uri": "https://localhost:8080/",
     "height": 35
    },
    "colab_type": "code",
    "id": "fu6Y8XO4Mkw7",
    "outputId": "034cb139-a893-4784-9ff8-e14f4d99e465"
   },
   "outputs": [
    {
     "data": {
      "text/plain": [
       "(35887, 48, 48, 1)"
      ]
     },
     "execution_count": 62,
     "metadata": {
      "tags": []
     },
     "output_type": "execute_result"
    }
   ],
   "source": [
    "x_new = np.asarray(x_new)\n",
    "x_new=x_new.reshape(-1,48,48,1)\n",
    "x_new.shape"
   ]
  },
  {
   "cell_type": "code",
   "execution_count": 0,
   "metadata": {
    "colab": {},
    "colab_type": "code",
    "id": "WSpqArrTHt3z"
   },
   "outputs": [],
   "source": [
    "x_new -= np.mean(x_new, axis=0)\n",
    "x_new /= np.std(x_new, axis=0)"
   ]
  },
  {
   "cell_type": "code",
   "execution_count": 0,
   "metadata": {
    "colab": {},
    "colab_type": "code",
    "id": "7-Y3UjBjcn_9"
   },
   "outputs": [],
   "source": [
    "#np.save('Ofer_x_new', x_new)\n",
    "#np.save('Ofer_y', y)\n",
    "#!mv fer_x_new.npy 'gdrive/My Drive/Datasets/FER2013/Ofer_x_new.npy'\n",
    "#!mv fer_y.npy 'gdrive/My Drive/Datasets/FER2013/Ofer_y.npy'\n",
    "#x_new=np.load('gdrive/My Drive/Datasets/FER2013/fer_x_new.npy')\n",
    "#y=np.load('gdrive/My Drive/Datasets/FER2013/fer_y.npy')"
   ]
  },
  {
   "cell_type": "code",
   "execution_count": 0,
   "metadata": {
    "colab": {},
    "colab_type": "code",
    "id": "HV2OC0wcdC1P"
   },
   "outputs": [],
   "source": [
    "#from google.colab import files\n",
    "#files.download('fer_x_new.npy')\n",
    "#files.download('fer_y.npy')"
   ]
  },
  {
   "cell_type": "code",
   "execution_count": 0,
   "metadata": {
    "colab": {},
    "colab_type": "code",
    "id": "Iu0HTWrO-9Cm"
   },
   "outputs": [],
   "source": [
    "def augment_data(dataset, dataset_labels, augementation_factor=1, use_random_rotation=True, use_random_shear=True, use_random_shift=True, use_random_zoom=True):\n",
    "    augmented_image = []\n",
    "    augmented_image_labels = []\n",
    "\n",
    "    for num in range (0, dataset.shape[0]):\n",
    "\n",
    "        for i in range(0, augementation_factor):\n",
    "            # original image:\n",
    "            augmented_image.append(dataset[num])\n",
    "            augmented_image_labels.append(dataset_labels[num])\n",
    "\n",
    "            if use_random_rotation:\n",
    "                augmented_image.append(tf.contrib.keras.preprocessing.image.random_rotation(dataset[num], 20, row_axis=0, col_axis=1, channel_axis=2))\n",
    "                augmented_image_labels.append(dataset_labels[num])\n",
    "\n",
    "            if use_random_shear:\n",
    "                augmented_image.append(tf.contrib.keras.preprocessing.image.random_shear(dataset[num], 0.2, row_axis=0, col_axis=1, channel_axis=2))\n",
    "                augmented_image_labels.append(dataset_labels[num])\n",
    "\n",
    "            if use_random_shift:\n",
    "                augmented_image.append(tf.contrib.keras.preprocessing.image.random_shift(dataset[num], 0.2, 0.2, row_axis=0, col_axis=1, channel_axis=2))\n",
    "                augmented_image_labels.append(dataset_labels[num])\n",
    "\n",
    "            #if use_random_zoom:\n",
    "             #   augmented_image.append(tf.contrib.keras.preprocessing.image.random_zoom(dataset[num], 0.9, row_axis=0, col_axis=1, channel_axis=2))\n",
    "              #  augmented_image_labels.append(dataset_labels[num])\n",
    "\n",
    "    return np.array(augmented_image), np.array(augmented_image_labels)\n",
    "x_new, y = augment_data(x_new, y)"
   ]
  },
  {
   "cell_type": "code",
   "execution_count": 0,
   "metadata": {
    "colab": {},
    "colab_type": "code",
    "id": "fCQJ9_-SH9wM"
   },
   "outputs": [],
   "source": [
    "x_train, x_valid, y_train, y_valid = train_test_split(x_new, y, test_size=0.2, random_state=42)"
   ]
  },
  {
   "cell_type": "code",
   "execution_count": 0,
   "metadata": {
    "colab": {},
    "colab_type": "code",
    "id": "zbzWnSRbZEuz"
   },
   "outputs": [],
   "source": [
    "del(x_new)\n",
    "del(y)"
   ]
  },
  {
   "cell_type": "code",
   "execution_count": 0,
   "metadata": {
    "colab": {},
    "colab_type": "code",
    "id": "EhD3A9wvomzM"
   },
   "outputs": [],
   "source": [
    "labels = [ 'Angry', 'Happy', 'Neutral', 'Sad']"
   ]
  },
  {
   "cell_type": "code",
   "execution_count": 0,
   "metadata": {
    "colab": {},
    "colab_type": "code",
    "id": "AKPkjB1hI28A"
   },
   "outputs": [],
   "source": [
    "def signs_model(width, height, output_size, alpha=0.05):\n",
    "  \n",
    "  model = Sequential()\n",
    "\n",
    "  model.add(Conv2D(num_features, kernel_size=(3, 3), activation='relu', input_shape=(width, height, 1), data_format='channels_last', kernel_regularizer=l2(0.01)))\n",
    "  model.add(Conv2D(num_features, kernel_size=(3, 3), activation='relu', padding='same'))\n",
    "  model.add(BatchNormalization())\n",
    "  model.add(MaxPooling2D(pool_size=(2, 2), strides=(2, 2)))\n",
    "  model.add(Dropout(0.1))\n",
    "\n",
    "  model.add(Conv2D(2*num_features, kernel_size=(3, 3), activation='relu', padding='same'))\n",
    "  model.add(BatchNormalization())\n",
    "  model.add(Conv2D(2*num_features, kernel_size=(3, 3), activation='relu', padding='same'))\n",
    "  model.add(BatchNormalization())\n",
    "  model.add(MaxPooling2D(pool_size=(2, 2), strides=(2, 2)))\n",
    "  model.add(Dropout(0.1))\n",
    "\n",
    "  model.add(Conv2D(2*2*num_features, kernel_size=(3, 3), activation='relu', padding='same'))\n",
    "  model.add(BatchNormalization())\n",
    "  model.add(Conv2D(2*2*num_features, kernel_size=(3, 3), activation='relu', padding='same'))\n",
    "  model.add(BatchNormalization())\n",
    "  model.add(MaxPooling2D(pool_size=(2, 2), strides=(2, 2)))\n",
    "  model.add(Dropout(0.1))\n",
    "\n",
    "  model.add(Conv2D(2*2*2*num_features, kernel_size=(3, 3), activation='relu', padding='same'))\n",
    "  model.add(BatchNormalization())\n",
    "  model.add(Conv2D(2*2*2*num_features, kernel_size=(3, 3), activation='relu', padding='same'))\n",
    "  model.add(BatchNormalization())\n",
    "  model.add(MaxPooling2D(pool_size=(2, 2), strides=(2, 2)))\n",
    "  model.add(Dropout(0.1))\n",
    "\n",
    "  model.add(Flatten())\n",
    "\n",
    "  model.add(Dense(2*2*2*num_features, activation='relu'))\n",
    "  model.add(Dropout(0.1))\n",
    "  model.add(Dense(2*2*num_features, activation='relu'))\n",
    "  model.add(Dropout(0.1))\n",
    "  model.add(Dense(2*num_features, activation='relu'))\n",
    "  model.add(Dropout(0.5))\n",
    "\n",
    "  model.add(Dense(output_size, activation='softmax'))\n",
    "  return model"
   ]
  },
  {
   "cell_type": "code",
   "execution_count": 0,
   "metadata": {
    "colab": {},
    "colab_type": "code",
    "id": "rXn-4oQNz2is"
   },
   "outputs": [],
   "source": [
    "model=signs_model(48, 48, output_size, alpha)\n",
    "model.compile(loss=categorical_crossentropy, optimizer=Adam(), metrics=['accuracy'])"
   ]
  },
  {
   "cell_type": "code",
   "execution_count": 0,
   "metadata": {
    "colab": {
     "base_uri": "https://localhost:8080/",
     "height": 1508
    },
    "colab_type": "code",
    "id": "h6p5QHL4CjLj",
    "outputId": "6d1fa5d9-58bc-4275-fa14-6efbd00e8bc7"
   },
   "outputs": [
    {
     "name": "stdout",
     "output_type": "stream",
     "text": [
      "Train on 114838 samples, validate on 28710 samples\n",
      "Epoch 1/100\n",
      "114838/114838 [==============================] - 86s 751us/step - loss: 11.7676 - acc: 0.4993 - val_loss: 9.9308 - val_acc: 0.6015\n",
      "Epoch 2/100\n",
      "114838/114838 [==============================] - 82s 718us/step - loss: 8.7406 - acc: 0.6816 - val_loss: 7.9233 - val_acc: 0.7264\n",
      "Epoch 3/100\n",
      "114838/114838 [==============================] - 83s 725us/step - loss: 7.5119 - acc: 0.7636 - val_loss: 7.0154 - val_acc: 0.7862\n",
      "Epoch 4/100\n",
      "114838/114838 [==============================] - 84s 728us/step - loss: 6.9180 - acc: 0.8030 - val_loss: 6.7127 - val_acc: 0.8097\n",
      "Epoch 5/100\n",
      "114838/114838 [==============================] - 84s 731us/step - loss: 6.5395 - acc: 0.8314 - val_loss: 6.5209 - val_acc: 0.8209\n",
      "Epoch 6/100\n",
      "114838/114838 [==============================] - 84s 731us/step - loss: 6.2551 - acc: 0.8512 - val_loss: 6.3087 - val_acc: 0.8398\n",
      "Epoch 7/100\n",
      "114838/114838 [==============================] - 84s 732us/step - loss: 6.0245 - acc: 0.8661 - val_loss: 6.2558 - val_acc: 0.8395\n",
      "Epoch 8/100\n",
      "114838/114838 [==============================] - 84s 732us/step - loss: 5.8440 - acc: 0.8779 - val_loss: 6.0848 - val_acc: 0.8546\n",
      "Epoch 9/100\n",
      "114838/114838 [==============================] - 84s 731us/step - loss: 5.6897 - acc: 0.8872 - val_loss: 5.9517 - val_acc: 0.8622\n",
      "Epoch 10/100\n",
      "114838/114838 [==============================] - 84s 731us/step - loss: 5.5616 - acc: 0.8922 - val_loss: 5.9985 - val_acc: 0.8588\n",
      "Epoch 11/100\n",
      "114838/114838 [==============================] - 84s 732us/step - loss: 5.4565 - acc: 0.8980 - val_loss: 5.7998 - val_acc: 0.8688\n",
      "Epoch 12/100\n",
      "114838/114838 [==============================] - 84s 731us/step - loss: 5.3666 - acc: 0.9001 - val_loss: 5.8524 - val_acc: 0.8674\n",
      "Epoch 13/100\n",
      "114838/114838 [==============================] - 84s 735us/step - loss: 5.2818 - acc: 0.9045 - val_loss: 5.6975 - val_acc: 0.8762\n",
      "Epoch 14/100\n",
      "114838/114838 [==============================] - 84s 736us/step - loss: 5.2209 - acc: 0.9078 - val_loss: 5.7117 - val_acc: 0.8798\n",
      "Epoch 15/100\n",
      "114838/114838 [==============================] - 84s 735us/step - loss: 5.1666 - acc: 0.9095 - val_loss: 5.7501 - val_acc: 0.8774\n",
      "Epoch 16/100\n",
      "114838/114838 [==============================] - 84s 734us/step - loss: 5.1100 - acc: 0.9105 - val_loss: 5.7358 - val_acc: 0.8731\n",
      "Epoch 17/100\n",
      "114838/114838 [==============================] - 84s 734us/step - loss: 5.0660 - acc: 0.9140 - val_loss: 5.7073 - val_acc: 0.8783\n",
      "Epoch 18/100\n",
      "114838/114838 [==============================] - 84s 733us/step - loss: 5.0108 - acc: 0.9162 - val_loss: 5.7095 - val_acc: 0.8821\n",
      "Epoch 19/100\n",
      "114838/114838 [==============================] - 84s 731us/step - loss: 4.9798 - acc: 0.9155 - val_loss: 5.7150 - val_acc: 0.8809\n",
      "Epoch 20/100\n",
      "114838/114838 [==============================] - 84s 730us/step - loss: 4.9703 - acc: 0.9188 - val_loss: 5.6529 - val_acc: 0.8883\n",
      "Epoch 21/100\n",
      "114838/114838 [==============================] - 84s 731us/step - loss: 4.9212 - acc: 0.9205 - val_loss: 5.6047 - val_acc: 0.8893\n",
      "Epoch 22/100\n",
      "114838/114838 [==============================] - 84s 730us/step - loss: 4.8895 - acc: 0.9215 - val_loss: 5.6639 - val_acc: 0.8803\n",
      "Epoch 23/100\n",
      "114838/114838 [==============================] - 84s 730us/step - loss: 4.8658 - acc: 0.9232 - val_loss: 5.6207 - val_acc: 0.8872\n",
      "Epoch 24/100\n",
      "114838/114838 [==============================] - 84s 730us/step - loss: 4.8760 - acc: 0.9227 - val_loss: 5.5943 - val_acc: 0.8844\n",
      "Epoch 25/100\n",
      "114838/114838 [==============================] - 84s 731us/step - loss: 4.8726 - acc: 0.9216 - val_loss: 5.6434 - val_acc: 0.8879\n",
      "Epoch 26/100\n",
      "114838/114838 [==============================] - 84s 731us/step - loss: 4.8500 - acc: 0.9249 - val_loss: 5.6530 - val_acc: 0.8865\n",
      "Epoch 27/100\n",
      "114838/114838 [==============================] - 84s 730us/step - loss: 4.8182 - acc: 0.9262 - val_loss: 5.6238 - val_acc: 0.8908\n",
      "Epoch 28/100\n",
      "114838/114838 [==============================] - 84s 730us/step - loss: 4.8189 - acc: 0.9256 - val_loss: 5.7123 - val_acc: 0.8896\n",
      "Epoch 29/100\n",
      "114838/114838 [==============================] - 84s 730us/step - loss: 4.7629 - acc: 0.9291 - val_loss: 5.6086 - val_acc: 0.8917\n",
      "Epoch 30/100\n",
      "114838/114838 [==============================] - 84s 730us/step - loss: 4.7445 - acc: 0.9298 - val_loss: 5.7321 - val_acc: 0.8928\n",
      "Epoch 31/100\n",
      "114838/114838 [==============================] - 84s 729us/step - loss: 4.7426 - acc: 0.9303 - val_loss: 5.6642 - val_acc: 0.8905\n",
      "Epoch 32/100\n",
      "114838/114838 [==============================] - 84s 729us/step - loss: 4.7702 - acc: 0.9272 - val_loss: 5.8215 - val_acc: 0.8778\n",
      "Epoch 33/100\n",
      "114838/114838 [==============================] - 84s 730us/step - loss: 4.8224 - acc: 0.9251 - val_loss: 5.7244 - val_acc: 0.8895\n",
      "Epoch 34/100\n",
      "114838/114838 [==============================] - 84s 730us/step - loss: 4.7555 - acc: 0.9285 - val_loss: 5.7335 - val_acc: 0.8907\n",
      "Epoch 35/100\n",
      "114838/114838 [==============================] - 84s 729us/step - loss: 4.7247 - acc: 0.9310 - val_loss: 5.6003 - val_acc: 0.8952\n",
      "Epoch 36/100\n",
      "114838/114838 [==============================] - 84s 729us/step - loss: 4.6755 - acc: 0.9345 - val_loss: 5.6837 - val_acc: 0.8959\n",
      "Epoch 37/100\n",
      "114838/114838 [==============================] - 84s 728us/step - loss: 4.6977 - acc: 0.9331 - val_loss: 5.7737 - val_acc: 0.8907\n",
      "Epoch 38/100\n",
      "114838/114838 [==============================] - 84s 728us/step - loss: 4.6997 - acc: 0.9335 - val_loss: 5.6811 - val_acc: 0.8887\n",
      "Epoch 39/100\n",
      "114838/114838 [==============================] - 84s 728us/step - loss: 4.7258 - acc: 0.9304 - val_loss: 5.7663 - val_acc: 0.8875\n",
      "Epoch 40/100\n",
      "114838/114838 [==============================] - 84s 728us/step - loss: 4.8180 - acc: 0.9243 - val_loss: 5.6866 - val_acc: 0.8907\n",
      "Epoch 41/100\n",
      "114838/114838 [==============================] - 84s 728us/step - loss: 4.7137 - acc: 0.9324 - val_loss: 5.7125 - val_acc: 0.8904\n",
      "Epoch 42/100\n",
      "114838/114838 [==============================] - 84s 727us/step - loss: 4.6645 - acc: 0.9354 - val_loss: 5.6559 - val_acc: 0.8938\n"
     ]
    },
    {
     "data": {
      "text/plain": [
       "<keras.callbacks.History at 0x7fc3b8b0f1d0>"
      ]
     },
     "execution_count": 72,
     "metadata": {
      "tags": []
     },
     "output_type": "execute_result"
    }
   ],
   "source": [
    "#model.fit_generator(datagen.flow(x_train, y_train, batch_size=batch_size), steps_per_epoch=len(x_train)//batch_size, epochs=epochs, \n",
    "#          verbose=1, validation_data=(np.array(x_valid), np.array(y_valid)), shuffle=True)#, \n",
    "#                    #callbacks=[EarlyStopping(monitor='val_acc', mode='auto', patience=6)])\n",
    "model.fit(x_train, y_train, batch_size=512, epochs=epochs, \n",
    "         verbose=1, validation_data=(x_valid, y_valid), shuffle=True, callbacks=[EarlyStopping(monitor='val_acc', mode='auto', patience=6)])"
   ]
  },
  {
   "cell_type": "code",
   "execution_count": 0,
   "metadata": {
    "colab": {},
    "colab_type": "code",
    "id": "Tu3EcZbFK-GV"
   },
   "outputs": [],
   "source": [
    "model.save('model.h5')\n",
    "!mv model.h5 'gdrive/My Drive/Datasets/Models/fer.h5'"
   ]
  },
  {
   "cell_type": "code",
   "execution_count": 0,
   "metadata": {
    "colab": {},
    "colab_type": "code",
    "id": "dKYpJo8dUIWU"
   },
   "outputs": [],
   "source": [
    "from google.colab import files\n",
    "files.download('fer.h5')"
   ]
  },
  {
   "cell_type": "code",
   "execution_count": 0,
   "metadata": {
    "colab": {},
    "colab_type": "code",
    "id": "ASNFMyIWGSuV"
   },
   "outputs": [],
   "source": [
    "from PIL import Image\n",
    "import os, os.path"
   ]
  },
  {
   "cell_type": "code",
   "execution_count": 0,
   "metadata": {
    "colab": {},
    "colab_type": "code",
    "id": "hsapVQqAqgFj"
   },
   "outputs": [],
   "source": [
    "imgs = []\n",
    "y = []\n",
    "path = \"gdrive/My Drive/Datasets/JAFF/NEUTRAL\"\n",
    "ext = [\".jpg\"]\n",
    "for f in os.listdir(path):\n",
    "  ext = os.path.splitext(f)[1]\n",
    "  imgs.append(Image.open(os.path.join(path,f)))\n",
    "  y.append(1)"
   ]
  },
  {
   "cell_type": "code",
   "execution_count": 0,
   "metadata": {
    "colab": {},
    "colab_type": "code",
    "id": "pyhX3C1Jqgpf"
   },
   "outputs": [],
   "source": [
    "path = \"gdrive/My Drive/Datasets/JAFF/HAPPY\"\n",
    "ext = [\".jpg\"]\n",
    "for f in os.listdir(path):\n",
    "  ext = os.path.splitext(f)[1]\n",
    "  imgs.append(Image.open(os.path.join(path,f)))\n",
    "  y.append(2)"
   ]
  },
  {
   "cell_type": "code",
   "execution_count": 0,
   "metadata": {
    "colab": {},
    "colab_type": "code",
    "id": "KvGER4cwGaaB"
   },
   "outputs": [],
   "source": [
    "path = \"gdrive/My Drive/Datasets/JAFF/SAD\"\n",
    "ext = [\".jpg\"]\n",
    "for f in os.listdir(path):\n",
    "  ext = os.path.splitext(f)[1]\n",
    "  imgs.append(Image.open(os.path.join(path,f)))\n",
    "  y.append(3)"
   ]
  },
  {
   "cell_type": "code",
   "execution_count": 0,
   "metadata": {
    "colab": {},
    "colab_type": "code",
    "id": "3k0wH01PHV-h"
   },
   "outputs": [],
   "source": [
    "path = \"gdrive/My Drive/Datasets/JAFF/ANGRY\"\n",
    "ext = [\".jpg\"]\n",
    "for f in os.listdir(path):\n",
    "  ext = os.path.splitext(f)[1]\n",
    "  imgs.append(Image.open(os.path.join(path,f)))\n",
    "  y.append(4)"
   ]
  },
  {
   "cell_type": "code",
   "execution_count": 0,
   "metadata": {
    "colab": {},
    "colab_type": "code",
    "id": "5dF7tXunIEE9"
   },
   "outputs": [],
   "source": [
    "x = []\n",
    "for i in range(len(imgs)):\n",
    "    d = np.asarray(imgs[i]).reshape(256, 256)\n",
    "    d=cv2.resize(d, (200, 200), fx=0.5, fy=0.5, interpolation = cv2.INTER_CUBIC)\n",
    "    x.append(d.astype('float32'))"
   ]
  },
  {
   "cell_type": "code",
   "execution_count": 0,
   "metadata": {
    "colab": {
     "base_uri": "https://localhost:8080/",
     "height": 35
    },
    "colab_type": "code",
    "id": "LG8pM2MoJGYs",
    "outputId": "17515e10-1177-42cc-e706-191f6021f9db"
   },
   "outputs": [
    {
     "data": {
      "text/plain": [
       "(152, 200, 200, 1)"
      ]
     },
     "execution_count": 33,
     "metadata": {
      "tags": []
     },
     "output_type": "execute_result"
    }
   ],
   "source": [
    "x = np.asarray(x)\n",
    "x = np.expand_dims(x, -1)\n",
    "x.shape"
   ]
  },
  {
   "cell_type": "code",
   "execution_count": 0,
   "metadata": {
    "colab": {
     "base_uri": "https://localhost:8080/",
     "height": 35
    },
    "colab_type": "code",
    "id": "eyrFxM9AJlSz",
    "outputId": "b7975867-d45e-4da4-d095-0f2051f119bb"
   },
   "outputs": [
    {
     "data": {
      "text/plain": [
       "(152, 4)"
      ]
     },
     "execution_count": 34,
     "metadata": {
      "tags": []
     },
     "output_type": "execute_result"
    }
   ],
   "source": [
    "y=pd.get_dummies(y)\n",
    "y.shape"
   ]
  },
  {
   "cell_type": "code",
   "execution_count": 0,
   "metadata": {
    "colab": {},
    "colab_type": "code",
    "id": "kClqL507oSQY"
   },
   "outputs": [],
   "source": [
    "#np.save('jeff_x', x)\n",
    "#np.save('jeff_y', y)\n",
    "#!mv jeff_x.npy 'gdrive/My Drive/Datasets/FER2013/jeff_x.npy'\n",
    "#!mv jeff_y.npy 'gdrive/My Drive/Datasets/FER2013/jeff_y.npy'\n",
    "#x=np.load('gdrive/My Drive/Datasets/FER2013/jeff_x.npy')\n",
    "#y=np.load('gdrive/My Drive/Datasets/FER2013/jeff_y.npy')"
   ]
  },
  {
   "cell_type": "code",
   "execution_count": 0,
   "metadata": {
    "colab": {},
    "colab_type": "code",
    "id": "bjng9TfFJ-V0"
   },
   "outputs": [],
   "source": [
    "model=load_model('gdrive/My Drive/Datasets/FER2013/model.h5')\n",
    "#model.compile(loss=categorical_crossentropy, optimizer=Adam(), metrics=['accuracy'])\n",
    "#model=signs_model(width, height, output_size, alpha)\n",
    "model.compile(loss=categorical_crossentropy, optimizer=Adam(), metrics=['accuracy'])"
   ]
  },
  {
   "cell_type": "code",
   "execution_count": 0,
   "metadata": {
    "colab": {},
    "colab_type": "code",
    "id": "rdyN0YessEQj"
   },
   "outputs": [],
   "source": [
    "datagen = ImageDataGenerator(featurewise_center=True, featurewise_std_normalization=True, rotation_range=20, \n",
    "                             zoom_range=0.15, rescale=1./255,width_shift_range=0.2, height_shift_range=0.2, \n",
    "                             shear_range=0.2, horizontal_flip=True, fill_mode=\"nearest\")\n",
    "datagen.fit(x)"
   ]
  },
  {
   "cell_type": "code",
   "execution_count": 0,
   "metadata": {
    "colab": {
     "base_uri": "https://localhost:8080/",
     "height": 658
    },
    "colab_type": "code",
    "id": "q5ka7vsLo2Ik",
    "outputId": "356dd6ad-dbec-4f4f-e472-521314a4c232"
   },
   "outputs": [
    {
     "name": "stdout",
     "output_type": "stream",
     "text": [
      "Epoch 1/100\n",
      "19/19 [==============================] - 10s 530ms/step - loss: 9.2050 - acc: 0.3657\n",
      "Epoch 2/100\n",
      "19/19 [==============================] - 6s 338ms/step - loss: 9.7487 - acc: 0.3964\n",
      "Epoch 3/100\n",
      "19/19 [==============================] - 6s 341ms/step - loss: 9.6959 - acc: 0.3957\n",
      "Epoch 4/100\n",
      "19/19 [==============================] - 6s 339ms/step - loss: 9.6509 - acc: 0.4001\n",
      "Epoch 5/100\n",
      "19/19 [==============================] - 6s 338ms/step - loss: 9.5613 - acc: 0.4078\n",
      "Epoch 6/100\n",
      "19/19 [==============================] - 7s 344ms/step - loss: 9.7887 - acc: 0.3937\n",
      "Epoch 7/100\n",
      "19/19 [==============================] - 6s 340ms/step - loss: 9.3049 - acc: 0.4236\n",
      "Epoch 8/100\n",
      "11/19 [================>.............] - ETA: 2s - loss: 10.1488 - acc: 0.3712"
     ]
    },
    {
     "ename": "KeyboardInterrupt",
     "evalue": "ignored",
     "output_type": "error",
     "traceback": [
      "\u001b[0;31m---------------------------------------------------------------------------\u001b[0m",
      "\u001b[0;31mKeyboardInterrupt\u001b[0m                         Traceback (most recent call last)",
      "\u001b[0;32m<ipython-input-46-30a7da558795>\u001b[0m in \u001b[0;36m<module>\u001b[0;34m()\u001b[0m\n\u001b[1;32m      1\u001b[0m model.fit_generator(datagen.flow(x, y, batch_size=32), steps_per_epoch=len(x)//8, epochs=epochs, \n\u001b[0;32m----> 2\u001b[0;31m           verbose=1, shuffle=True)#, \n\u001b[0m\u001b[1;32m      3\u001b[0m \u001b[0;31m#                    #callbacks=[EarlyStopping(monitor='val_acc', mode='auto', patience=6)])\u001b[0m\u001b[0;34m\u001b[0m\u001b[0;34m\u001b[0m\u001b[0;34m\u001b[0m\u001b[0m\n\u001b[1;32m      4\u001b[0m \u001b[0;31m#model.fit(np.array(x), np.array(y), batch_size=None, epochs=2*epochs,\u001b[0m\u001b[0;34m\u001b[0m\u001b[0;34m\u001b[0m\u001b[0;34m\u001b[0m\u001b[0m\n\u001b[1;32m      5\u001b[0m \u001b[0;31m#         verbose=1, shuffle=True, callbacks=[EarlyStopping(monitor='val_loss', mode='min', patience=6)])\u001b[0m\u001b[0;34m\u001b[0m\u001b[0;34m\u001b[0m\u001b[0;34m\u001b[0m\u001b[0m\n",
      "\u001b[0;32m/usr/local/lib/python3.6/dist-packages/keras/legacy/interfaces.py\u001b[0m in \u001b[0;36mwrapper\u001b[0;34m(*args, **kwargs)\u001b[0m\n\u001b[1;32m     89\u001b[0m                 warnings.warn('Update your `' + object_name + '` call to the ' +\n\u001b[1;32m     90\u001b[0m                               'Keras 2 API: ' + signature, stacklevel=2)\n\u001b[0;32m---> 91\u001b[0;31m             \u001b[0;32mreturn\u001b[0m \u001b[0mfunc\u001b[0m\u001b[0;34m(\u001b[0m\u001b[0;34m*\u001b[0m\u001b[0margs\u001b[0m\u001b[0;34m,\u001b[0m \u001b[0;34m**\u001b[0m\u001b[0mkwargs\u001b[0m\u001b[0;34m)\u001b[0m\u001b[0;34m\u001b[0m\u001b[0;34m\u001b[0m\u001b[0m\n\u001b[0m\u001b[1;32m     92\u001b[0m         \u001b[0mwrapper\u001b[0m\u001b[0;34m.\u001b[0m\u001b[0m_original_function\u001b[0m \u001b[0;34m=\u001b[0m \u001b[0mfunc\u001b[0m\u001b[0;34m\u001b[0m\u001b[0;34m\u001b[0m\u001b[0m\n\u001b[1;32m     93\u001b[0m         \u001b[0;32mreturn\u001b[0m \u001b[0mwrapper\u001b[0m\u001b[0;34m\u001b[0m\u001b[0;34m\u001b[0m\u001b[0m\n",
      "\u001b[0;32m/usr/local/lib/python3.6/dist-packages/keras/engine/training.py\u001b[0m in \u001b[0;36mfit_generator\u001b[0;34m(self, generator, steps_per_epoch, epochs, verbose, callbacks, validation_data, validation_steps, class_weight, max_queue_size, workers, use_multiprocessing, shuffle, initial_epoch)\u001b[0m\n\u001b[1;32m   1416\u001b[0m             \u001b[0muse_multiprocessing\u001b[0m\u001b[0;34m=\u001b[0m\u001b[0muse_multiprocessing\u001b[0m\u001b[0;34m,\u001b[0m\u001b[0;34m\u001b[0m\u001b[0;34m\u001b[0m\u001b[0m\n\u001b[1;32m   1417\u001b[0m             \u001b[0mshuffle\u001b[0m\u001b[0;34m=\u001b[0m\u001b[0mshuffle\u001b[0m\u001b[0;34m,\u001b[0m\u001b[0;34m\u001b[0m\u001b[0;34m\u001b[0m\u001b[0m\n\u001b[0;32m-> 1418\u001b[0;31m             initial_epoch=initial_epoch)\n\u001b[0m\u001b[1;32m   1419\u001b[0m \u001b[0;34m\u001b[0m\u001b[0m\n\u001b[1;32m   1420\u001b[0m     \u001b[0;34m@\u001b[0m\u001b[0minterfaces\u001b[0m\u001b[0;34m.\u001b[0m\u001b[0mlegacy_generator_methods_support\u001b[0m\u001b[0;34m\u001b[0m\u001b[0;34m\u001b[0m\u001b[0m\n",
      "\u001b[0;32m/usr/local/lib/python3.6/dist-packages/keras/engine/training_generator.py\u001b[0m in \u001b[0;36mfit_generator\u001b[0;34m(model, generator, steps_per_epoch, epochs, verbose, callbacks, validation_data, validation_steps, class_weight, max_queue_size, workers, use_multiprocessing, shuffle, initial_epoch)\u001b[0m\n\u001b[1;32m    215\u001b[0m                 outs = model.train_on_batch(x, y,\n\u001b[1;32m    216\u001b[0m                                             \u001b[0msample_weight\u001b[0m\u001b[0;34m=\u001b[0m\u001b[0msample_weight\u001b[0m\u001b[0;34m,\u001b[0m\u001b[0;34m\u001b[0m\u001b[0;34m\u001b[0m\u001b[0m\n\u001b[0;32m--> 217\u001b[0;31m                                             class_weight=class_weight)\n\u001b[0m\u001b[1;32m    218\u001b[0m \u001b[0;34m\u001b[0m\u001b[0m\n\u001b[1;32m    219\u001b[0m                 \u001b[0mouts\u001b[0m \u001b[0;34m=\u001b[0m \u001b[0mto_list\u001b[0m\u001b[0;34m(\u001b[0m\u001b[0mouts\u001b[0m\u001b[0;34m)\u001b[0m\u001b[0;34m\u001b[0m\u001b[0;34m\u001b[0m\u001b[0m\n",
      "\u001b[0;32m/usr/local/lib/python3.6/dist-packages/keras/engine/training.py\u001b[0m in \u001b[0;36mtrain_on_batch\u001b[0;34m(self, x, y, sample_weight, class_weight)\u001b[0m\n\u001b[1;32m   1215\u001b[0m             \u001b[0mins\u001b[0m \u001b[0;34m=\u001b[0m \u001b[0mx\u001b[0m \u001b[0;34m+\u001b[0m \u001b[0my\u001b[0m \u001b[0;34m+\u001b[0m \u001b[0msample_weights\u001b[0m\u001b[0;34m\u001b[0m\u001b[0;34m\u001b[0m\u001b[0m\n\u001b[1;32m   1216\u001b[0m         \u001b[0mself\u001b[0m\u001b[0;34m.\u001b[0m\u001b[0m_make_train_function\u001b[0m\u001b[0;34m(\u001b[0m\u001b[0;34m)\u001b[0m\u001b[0;34m\u001b[0m\u001b[0;34m\u001b[0m\u001b[0m\n\u001b[0;32m-> 1217\u001b[0;31m         \u001b[0moutputs\u001b[0m \u001b[0;34m=\u001b[0m \u001b[0mself\u001b[0m\u001b[0;34m.\u001b[0m\u001b[0mtrain_function\u001b[0m\u001b[0;34m(\u001b[0m\u001b[0mins\u001b[0m\u001b[0;34m)\u001b[0m\u001b[0;34m\u001b[0m\u001b[0;34m\u001b[0m\u001b[0m\n\u001b[0m\u001b[1;32m   1218\u001b[0m         \u001b[0;32mreturn\u001b[0m \u001b[0munpack_singleton\u001b[0m\u001b[0;34m(\u001b[0m\u001b[0moutputs\u001b[0m\u001b[0;34m)\u001b[0m\u001b[0;34m\u001b[0m\u001b[0;34m\u001b[0m\u001b[0m\n\u001b[1;32m   1219\u001b[0m \u001b[0;34m\u001b[0m\u001b[0m\n",
      "\u001b[0;32m/usr/local/lib/python3.6/dist-packages/keras/backend/tensorflow_backend.py\u001b[0m in \u001b[0;36m__call__\u001b[0;34m(self, inputs)\u001b[0m\n\u001b[1;32m   2713\u001b[0m                 \u001b[0;32mreturn\u001b[0m \u001b[0mself\u001b[0m\u001b[0;34m.\u001b[0m\u001b[0m_legacy_call\u001b[0m\u001b[0;34m(\u001b[0m\u001b[0minputs\u001b[0m\u001b[0;34m)\u001b[0m\u001b[0;34m\u001b[0m\u001b[0;34m\u001b[0m\u001b[0m\n\u001b[1;32m   2714\u001b[0m \u001b[0;34m\u001b[0m\u001b[0m\n\u001b[0;32m-> 2715\u001b[0;31m             \u001b[0;32mreturn\u001b[0m \u001b[0mself\u001b[0m\u001b[0;34m.\u001b[0m\u001b[0m_call\u001b[0m\u001b[0;34m(\u001b[0m\u001b[0minputs\u001b[0m\u001b[0;34m)\u001b[0m\u001b[0;34m\u001b[0m\u001b[0;34m\u001b[0m\u001b[0m\n\u001b[0m\u001b[1;32m   2716\u001b[0m         \u001b[0;32melse\u001b[0m\u001b[0;34m:\u001b[0m\u001b[0;34m\u001b[0m\u001b[0;34m\u001b[0m\u001b[0m\n\u001b[1;32m   2717\u001b[0m             \u001b[0;32mif\u001b[0m \u001b[0mpy_any\u001b[0m\u001b[0;34m(\u001b[0m\u001b[0mis_tensor\u001b[0m\u001b[0;34m(\u001b[0m\u001b[0mx\u001b[0m\u001b[0;34m)\u001b[0m \u001b[0;32mfor\u001b[0m \u001b[0mx\u001b[0m \u001b[0;32min\u001b[0m \u001b[0minputs\u001b[0m\u001b[0;34m)\u001b[0m\u001b[0;34m:\u001b[0m\u001b[0;34m\u001b[0m\u001b[0;34m\u001b[0m\u001b[0m\n",
      "\u001b[0;32m/usr/local/lib/python3.6/dist-packages/keras/backend/tensorflow_backend.py\u001b[0m in \u001b[0;36m_call\u001b[0;34m(self, inputs)\u001b[0m\n\u001b[1;32m   2673\u001b[0m             \u001b[0mfetched\u001b[0m \u001b[0;34m=\u001b[0m \u001b[0mself\u001b[0m\u001b[0;34m.\u001b[0m\u001b[0m_callable_fn\u001b[0m\u001b[0;34m(\u001b[0m\u001b[0;34m*\u001b[0m\u001b[0marray_vals\u001b[0m\u001b[0;34m,\u001b[0m \u001b[0mrun_metadata\u001b[0m\u001b[0;34m=\u001b[0m\u001b[0mself\u001b[0m\u001b[0;34m.\u001b[0m\u001b[0mrun_metadata\u001b[0m\u001b[0;34m)\u001b[0m\u001b[0;34m\u001b[0m\u001b[0;34m\u001b[0m\u001b[0m\n\u001b[1;32m   2674\u001b[0m         \u001b[0;32melse\u001b[0m\u001b[0;34m:\u001b[0m\u001b[0;34m\u001b[0m\u001b[0;34m\u001b[0m\u001b[0m\n\u001b[0;32m-> 2675\u001b[0;31m             \u001b[0mfetched\u001b[0m \u001b[0;34m=\u001b[0m \u001b[0mself\u001b[0m\u001b[0;34m.\u001b[0m\u001b[0m_callable_fn\u001b[0m\u001b[0;34m(\u001b[0m\u001b[0;34m*\u001b[0m\u001b[0marray_vals\u001b[0m\u001b[0;34m)\u001b[0m\u001b[0;34m\u001b[0m\u001b[0;34m\u001b[0m\u001b[0m\n\u001b[0m\u001b[1;32m   2676\u001b[0m         \u001b[0;32mreturn\u001b[0m \u001b[0mfetched\u001b[0m\u001b[0;34m[\u001b[0m\u001b[0;34m:\u001b[0m\u001b[0mlen\u001b[0m\u001b[0;34m(\u001b[0m\u001b[0mself\u001b[0m\u001b[0;34m.\u001b[0m\u001b[0moutputs\u001b[0m\u001b[0;34m)\u001b[0m\u001b[0;34m]\u001b[0m\u001b[0;34m\u001b[0m\u001b[0;34m\u001b[0m\u001b[0m\n\u001b[1;32m   2677\u001b[0m \u001b[0;34m\u001b[0m\u001b[0m\n",
      "\u001b[0;32m/usr/local/lib/python3.6/dist-packages/tensorflow/python/client/session.py\u001b[0m in \u001b[0;36m__call__\u001b[0;34m(self, *args, **kwargs)\u001b[0m\n\u001b[1;32m   1456\u001b[0m         ret = tf_session.TF_SessionRunCallable(self._session._session,\n\u001b[1;32m   1457\u001b[0m                                                \u001b[0mself\u001b[0m\u001b[0;34m.\u001b[0m\u001b[0m_handle\u001b[0m\u001b[0;34m,\u001b[0m \u001b[0margs\u001b[0m\u001b[0;34m,\u001b[0m\u001b[0;34m\u001b[0m\u001b[0;34m\u001b[0m\u001b[0m\n\u001b[0;32m-> 1458\u001b[0;31m                                                run_metadata_ptr)\n\u001b[0m\u001b[1;32m   1459\u001b[0m         \u001b[0;32mif\u001b[0m \u001b[0mrun_metadata\u001b[0m\u001b[0;34m:\u001b[0m\u001b[0;34m\u001b[0m\u001b[0;34m\u001b[0m\u001b[0m\n\u001b[1;32m   1460\u001b[0m           \u001b[0mproto_data\u001b[0m \u001b[0;34m=\u001b[0m \u001b[0mtf_session\u001b[0m\u001b[0;34m.\u001b[0m\u001b[0mTF_GetBuffer\u001b[0m\u001b[0;34m(\u001b[0m\u001b[0mrun_metadata_ptr\u001b[0m\u001b[0;34m)\u001b[0m\u001b[0;34m\u001b[0m\u001b[0;34m\u001b[0m\u001b[0m\n",
      "\u001b[0;31mKeyboardInterrupt\u001b[0m: "
     ]
    }
   ],
   "source": [
    "model.fit_generator(datagen.flow(x, y, batch_size=32), steps_per_epoch=len(x)//8, epochs=epochs, \n",
    "          verbose=1, shuffle=True)#, \n",
    "#                    #callbacks=[EarlyStopping(monitor='val_acc', mode='auto', patience=6)])\n",
    "#model.fit(np.array(x), np.array(y), batch_size=None, epochs=2*epochs, \n",
    "#         verbose=1, shuffle=True, callbacks=[EarlyStopping(monitor='val_loss', mode='min', patience=6)])"
   ]
  },
  {
   "cell_type": "code",
   "execution_count": 0,
   "metadata": {
    "colab": {},
    "colab_type": "code",
    "id": "EGakMrb5rV0W"
   },
   "outputs": [],
   "source": [
    ""
   ]
  }
 ],
 "metadata": {
  "accelerator": "GPU",
  "colab": {
   "collapsed_sections": [],
   "name": "CNN Emotion Modelling.ipynb",
   "provenance": [],
   "version": "0.3.2"
  },
  "kernelspec": {
   "display_name": "Python 3",
   "name": "python3"
  }
 },
 "nbformat": 4,
 "nbformat_minor": 0
}
